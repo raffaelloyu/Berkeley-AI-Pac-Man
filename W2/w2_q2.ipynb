{
  "nbformat": 4,
  "nbformat_minor": 0,
  "metadata": {
    "colab": {
      "name": "w2_q2.ipynb",
      "provenance": [],
      "collapsed_sections": []
    },
    "kernelspec": {
      "display_name": "Python 3 (ipykernel)",
      "language": "python",
      "name": "python3"
    },
    "language_info": {
      "codemirror_mode": {
        "name": "ipython",
        "version": 3
      },
      "file_extension": ".py",
      "mimetype": "text/x-python",
      "name": "python",
      "nbconvert_exporter": "python",
      "pygments_lexer": "ipython3",
      "version": "3.7.10"
    }
  },
  "cells": [
    {
      "cell_type": "markdown",
      "metadata": {
        "id": "X8c4HqZ5xrx4"
      },
      "source": [
        "# W2 - Q2\n",
        "\n",
        "*Introduction to Jupyter notebook adapated from  UC Berkeley's Data8 and Data6 course materials* \n",
        "\n",
        "This Python notebook is available to help answer Q2 on written assignment - W2. \n",
        "\n",
        "Notebooks are documents that can contain text, code, visualizations, and more. Jupyter notebooks support over 40 different programming languages, including Python, R, Julia, Scala, etc.\n",
        "\n",
        "Notebooks are used for literate programming, a programming paradigm introduced by Donald Knuth in 1984, in which a programming language is accompanied with a documentation language, or a natural language. In other words, the computer program has an explanation in a natural language. This approach to programming effectively treats software as works of literature (Knuth, \"Literate Programming\"). It supports people to have a strong conceptual map of what is happening in the code and also have clarity on the flow and logic of the code/program. which is helpful for both for the writer and the reader."
      ]
    },
    {
      "cell_type": "markdown",
      "metadata": {
        "id": "Ow_VpMWwyfNT"
      },
      "source": [
        "### Notebook Structure \n",
        "\n",
        "A notebook is composed of rectangular sections called **cells**. There are 2 main kinds of cells: markdown and code. A **markdown cell**, such as this one, contains text. A **code cell** contains code in Python, a programming language that we will be using for the remainder of this module. You can select any cell by clicking it once. After a cell is selected, you can navigate the notebook using the up and down arrow keys.\n",
        "\n",
        "<div class=\"alert alert-info\">\n",
        "To run the code in a code cell, first click on that cell to activate it.  It'll be highlighted with a little green or blue rectangle.  Next, you can either press the  <code><b>▶|</b> Run </code> button above or press <b><code>Shift + Return</code></b> or <b><code>Shift + Enter</code></b>. This will run the current cell and select the next one.\n",
        "</div>\n",
        "\n",
        "If a code cell is running, you will see an asterisk (\\*) appear in the square brackets to the left of the cell. Once the cell has finished running, a number will replace the asterisk and any output from the code will appear under the cell."
      ]
    },
    {
      "cell_type": "code",
      "metadata": {
        "id": "3C249sqKy48A"
      },
      "source": [
        "# run this cell \n",
        "print('Hello World!')"
      ],
      "execution_count": null,
      "outputs": []
    },
    {
      "cell_type": "markdown",
      "metadata": {
        "id": "RKvuzQLuzCmz"
      },
      "source": [
        "#### Editing\n",
        "\n",
        "You can edit a Markdown cell by clicking it twice. Text in Markdown cells is written in [**Markdown**](https://daringfireball.net/projects/markdown/), a formatting syntax for plain text, so you may see some funky symbols when you edit a text cell. \n",
        "\n",
        "Once you've made your changes, you can exit text editing mode by running the cell. \n",
        "\n",
        "<div class=\"alert alert-warning\">\n",
        "<b>PRACTICE:</b><br>  \n",
        "Try double-clicking on the text below to edit the cell to fix the misspelling.\n",
        "</div>"
      ]
    },
    {
      "cell_type": "markdown",
      "metadata": {
        "id": "sK9ZnS4ZzDs-"
      },
      "source": [
        "Go Michgian Tech Huskeis!"
      ]
    },
    {
      "cell_type": "markdown",
      "metadata": {
        "id": "PLHlD3ZYzIkB"
      },
      "source": [
        "Code cells can be edited any time after they are highlighted. \n",
        "\n",
        "<div class=\"alert alert-warning\">\n",
        "<b>PRACTICE:</b><br>   \n",
        "Try editing the next code cell to print your name.\n",
        "</div>"
      ]
    },
    {
      "cell_type": "markdown",
      "metadata": {
        "id": "qZq4M8DHzT2E"
      },
      "source": [
        "#### Adding Cells\n",
        "You can add a cell by clicking <b><code>Insert > Insert Cell Below</code></b> and then choosing the cell type in the drop down menu. \n",
        "\n",
        "<div class=\"alert alert-warning\">\n",
        "<b>PRACTICE:</b><br>     \n",
        "Try adding a cell below here and printing your birthday (format: mm/dd/yyyy). Do not forget the quotation marks!\n",
        "</div>\n",
        "\n",
        "You can add cells by pressing the plus sign icon in the menu bar. This will add (by default) a code cell immediately below your current highlighted cell.\n",
        "\n",
        "To convert a cell to markdown, you can press 'Cell' in the menu bar, select 'Cell Type', and finally pick the desired option. This works the other way around too!  (you can also use the drop down menu in the toolbar above)"
      ]
    },
    {
      "cell_type": "markdown",
      "metadata": {
        "id": "L39pXTo_zbnD"
      },
      "source": [
        "#### Deleting Cells\n",
        "You can delete a cell by clicking the <b><code>scissors</code></b> at the top menu or <b><code>Edit > Cut Cells</code></b>. Delete the next cell below here.\n",
        "\n",
        "A common fear is deleting a cell that you needed -- but don't worry! This can be undone using 'Edit' > 'Undo Delete Cells'! If you accidentally delete content in a cell, you can use `Ctrl` + `Z` to undo.\n",
        "\n",
        "<div class=\"alert alert-warning\">\n",
        "<b>PRACTICE:</b><br>  \n",
        "Delete the code cell below. \n",
        "</div>"
      ]
    },
    {
      "cell_type": "code",
      "metadata": {
        "id": "dhG34idyzcn6"
      },
      "source": [
        "# DELETE THIS CELL \n",
        "print(\"delete me\")"
      ],
      "execution_count": null,
      "outputs": []
    },
    {
      "cell_type": "markdown",
      "metadata": {
        "id": "mQmLwFJ6ztJU"
      },
      "source": [
        "#### Saving and Loading\n",
        "\n",
        "Your notebook can record all of your text and code edits, as well as any graphs you generate or calculations you make. \n",
        "\n",
        "You are accessing the Jupyter notebook using \"Binder\", which allows hosted notebooks (from a url or github repository) to be shared as an interactive environment. \n",
        "\n",
        "Therefore, if you close this page and relaunch the notebook from the website you will lose your changes.  \n",
        "\n",
        "Alternatively, if you access the notebook from a local computer, you can save the notebook as you make changes by clicking Control-S, clicking the floppy disc icon in the toolbar at the top of the page, or by going to the File menu and selecting \"Save and Checkpoint\".\n",
        "\n",
        "**Note:** after loading a notebook you will see all the outputs (graphs, computations, etc) from your last session, but you won't be able to use any variables you assigned or functions you defined. You can get the functions and variables back by re-running the cells where they were defined- the easiest way is to highlight the cell where you left off work, then go to the Cell menu at the top of the screen and click \"Run all above\". You can also use this menu to run all cells in the notebook by clicking \"Run all\"."
      ]
    },
    {
      "cell_type": "markdown",
      "metadata": {
        "id": "b6YDnH89z2w3"
      },
      "source": [
        "## Getting Started \n",
        "\n",
        "Let's start by importing some desired packages."
      ]
    },
    {
      "cell_type": "code",
      "metadata": {
        "id": "0NYePvMDtrPy"
      },
      "source": [
        "import time\n",
        "import numpy as np\n",
        "import matplotlib as mpl \n",
        "import matplotlib.pylab as plt\n",
        "%matplotlib inline"
      ],
      "execution_count": null,
      "outputs": []
    },
    {
      "cell_type": "code",
      "metadata": {
        "id": "6j84zmGzxe6y"
      },
      "source": [
        "# import Genetic Algorithm method and parameters\n",
        "from ga import *"
      ],
      "execution_count": null,
      "outputs": []
    },
    {
      "cell_type": "markdown",
      "metadata": {
        "id": "-oCitOxyxql7"
      },
      "source": [
        "Let's try running an inital Genetic algorithm with the default parameters. "
      ]
    },
    {
      "cell_type": "code",
      "metadata": {
        "id": "KPkJBL0w1-l5"
      },
      "source": [
        "pop = init_population(max_population, gene_pool, len(target))\n",
        "soln, fitv,  gen = genetic_algorithm_stepwise(pop, fitness_fn, gene_pool, \n",
        "                                              f_thres, ngen, mutation_rate, mute=False)"
      ],
      "execution_count": null,
      "outputs": []
    },
    {
      "cell_type": "markdown",
      "metadata": {
        "id": "4u6ODOYi5ZcD"
      },
      "source": [
        "## Q2(a)\n",
        "\n",
        "Explore the parameter space by varying the number of generations `ngen` between 50 and 500 in increments of 50 while keeping all other parameters fixed at the default values. "
      ]
    },
    {
      "cell_type": "code",
      "metadata": {
        "id": "03OPnB98zeqW"
      },
      "source": [
        "gen_range = [50, 100, 150, 200, 250, 300, 350, 400, 450, 500]\n",
        "len(gen_range)"
      ],
      "execution_count": null,
      "outputs": []
    },
    {
      "cell_type": "code",
      "metadata": {
        "id": "8MvZe3w4uVLk"
      },
      "source": [
        "time_values = np.zeros((10,10))\n",
        "fit_values = np.zeros((10,10))\n",
        "gen_values = np.zeros((10,10))\n",
        "gen_range = [50, 100, 150, 200, 250, 300, 350, 400, 450, 500]\n",
        "for j in range(10):\n",
        "  for i in range(10):\n",
        "    start = time.time()\n",
        "    pop = init_population(max_population, gene_pool, len(target))\n",
        "    soln, fitv,  gen = genetic_algorithm_stepwise(pop, fitness_fn, gene_pool, \n",
        "                                                  f_thres, gen_range[j], mutation_rate, True) \n",
        "    end = time.time()\n",
        "    print(end-start)\n",
        "    time_values[i,j] = end-start\n",
        "    fit_values[i,j] = fitv\n",
        "    gen_values[i,j] = gen\n",
        "\n"
      ],
      "execution_count": null,
      "outputs": []
    },
    {
      "cell_type": "code",
      "metadata": {
        "id": "IwoIMfPRvBCP"
      },
      "source": [
        "fig = plt.figure()\n",
        "plt.errorbar(gen_range, time_values.mean(axis=0), time_values.std(axis=0), lw=2)\n",
        "plt.xlabel('Number of Generations', size=14)\n",
        "plt.ylabel('Time (s)', size=14)\n",
        "plt.title('Ave. GA Running Time +/- Std. Dev.', size=16)\n",
        "plt.xticks(fontsize=12)\n",
        "plt.yticks(fontsize=12)\n",
        "fig.savefig('figA-time.eps', bbox_inches='tight', format='eps')"
      ],
      "execution_count": null,
      "outputs": []
    },
    {
      "cell_type": "code",
      "metadata": {
        "id": "IEhZ8eIA3qSQ"
      },
      "source": [
        "fig = plt.figure()\n",
        "eb = plt.errorbar(gen_range, fit_values.mean(axis=0), fit_values.std(axis=0), lw=2)\n",
        "plt.xlabel('Number of Generations', size=14)\n",
        "plt.ylabel('Fitness Score', size=14)\n",
        "plt.title('Ave. Fitness of Best Individual +/- Std. Dev.', size=16)\n",
        "mx = plt.axhline(len(target), color='r', lw=2)\n",
        "plt.legend([eb, mx], ['GA Fitness', 'Max Fitness Score'], loc=4)\n",
        "plt.xticks(fontsize=12)\n",
        "plt.yticks(fontsize=12)\n",
        "fig.savefig('figA-fit.eps', bbox_inches='tight', format='eps');"
      ],
      "execution_count": null,
      "outputs": []
    },
    {
      "cell_type": "markdown",
      "metadata": {
        "id": "AxC5akz-_RAk"
      },
      "source": [
        "## Q2(b)\n",
        "\n",
        "Explore the parameter space by varying the population size `max_population` between 50 and 500 in increments of 50 while keeping all other parameters fixed at the default values. \n"
      ]
    },
    {
      "cell_type": "code",
      "metadata": {
        "id": "aj0nWjM95vP-"
      },
      "source": [
        "ngen = 1000             # set back to default\n",
        "\n"
      ],
      "execution_count": null,
      "outputs": []
    },
    {
      "cell_type": "code",
      "metadata": {
        "id": "vN0S4B2F51cy"
      },
      "source": [
        ""
      ],
      "execution_count": null,
      "outputs": []
    },
    {
      "cell_type": "code",
      "metadata": {
        "id": "TP-uRWBI_zM5"
      },
      "source": [
        ""
      ],
      "execution_count": null,
      "outputs": []
    },
    {
      "cell_type": "code",
      "metadata": {
        "id": "52348Y3r_0cL"
      },
      "source": [
        ""
      ],
      "execution_count": null,
      "outputs": []
    },
    {
      "cell_type": "markdown",
      "metadata": {
        "id": "oPr2XuxdBDPg"
      },
      "source": [
        "## Q2(c) \n",
        "\n",
        "Explore the parameter space by varying the mutation rate `mutation_rate` between 0.025 and 0.25 in increments of 0.025 while keeping all other parameters fixed at the default values.\n"
      ]
    },
    {
      "cell_type": "code",
      "metadata": {
        "id": "uuP9Hg9qBEb5"
      },
      "source": [
        "ngen = 1000             # set back to default\n",
        "max_population = 100    # set back to default\n",
        "\n"
      ],
      "execution_count": null,
      "outputs": []
    },
    {
      "cell_type": "code",
      "metadata": {
        "id": "CbYVmFkXBT69"
      },
      "source": [
        ""
      ],
      "execution_count": null,
      "outputs": []
    },
    {
      "cell_type": "code",
      "metadata": {
        "id": "bPbcjGlzBVS_"
      },
      "source": [
        ""
      ],
      "execution_count": null,
      "outputs": []
    },
    {
      "cell_type": "code",
      "metadata": {
        "id": "DPE6DnOdB80t"
      },
      "source": [
        ""
      ],
      "execution_count": null,
      "outputs": []
    }
  ]
}